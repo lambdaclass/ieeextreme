{
  "nbformat": 4,
  "nbformat_minor": 0,
  "metadata": {
    "colab": {
      "name": "Drawing_Rooted_Binary_Trees.ipynb",
      "provenance": [],
      "collapsed_sections": []
    },
    "kernelspec": {
      "name": "python3",
      "display_name": "Python 3"
    }
  },
  "cells": [
    {
      "cell_type": "markdown",
      "metadata": {
        "id": "PWXqhJJBCE2T",
        "colab_type": "text"
      },
      "source": [
        "# Reconstruir un árbol a partir de un preorder y un in-order"
      ]
    },
    {
      "cell_type": "markdown",
      "metadata": {
        "id": "FRl57tDdzXYK",
        "colab_type": "text"
      },
      "source": [
        "Caso de prueba:\n",
        "\n",
        "```\n",
        "dbeafcg\n",
        "abdecfg\n",
        "```"
      ]
    },
    {
      "cell_type": "markdown",
      "metadata": {
        "id": "l7ej6cutzo4s",
        "colab_type": "text"
      },
      "source": [
        "![Screen Shot 2020-09-17 at 17.43.38.png](data:image/png;base64,iVBORw0KGgoAAAANSUhEUgAAAmwAAAEWCAYAAADbxMsfAAAMSWlDQ1BJQ0MgUHJvZmlsZQAASImVVwdUU8kanltSSWiBUKSE3kQRpEsJoUUQkCrYCEkgocSYEETsyqKCaxcRsKGrIi66FkDWirrWRbG7lhcLKivrYsGGypsU0NXz3jvvP2fufPnnn+8vmTt3BgC9Wp5Umo/qA1AgKZQlRoWxxqVnsEiPAAaogA5MgAuPL5eyExJiAZSB/p/y5jpAVP0VdxXX9+P/VQwEQjkfACQB4iyBnF8A8X4A8FK+VFYIANEP6u2mFUpVeALERjIYIMRSFc7R4FIVztLgKrVNciIH4l0AkGk8niwHAN0WqGcV8XMgj+5NiD0kArEEAD0yxMF8EU8AcTTEQwsKpqgwtAPOWV/x5PyDM2uQk8fLGcSaXNRCDhfLpfm86f9nOf63FOQrBnw4wkYTyaITVTnDut3MmxKjwjSIuyVZcfEQG0L8TixQ20OMUkWK6BSNPWrBl3NgzQATYg8BLzwGYguIIyX5cbFafVa2OJILMVwhaLG4kJusnbtIKI9I0nLWyqYkxg/gbBmHrZ3byJOp/arsTyryUtha/psiIXeA/3WJKDlNEzNGLRKnxkGsCzFTnpcUo7HB7EtEnLgBG5kiURW/PcQBQklUmIYfm5Qti0zU2ssK5AP5YotEYm6cFlcXipKjtTy7+Dx1/KYQtwgl7JQBHqF8XOxALgJheIQmd+ySUJKizRdTSgvDErVzX0rzE7T2OFWYH6XS20JsIS9K0s7FgwvhgtTw43HSwoRkTZx4Vi5vdIImHrwYxAIOCAcsoIAtC0wBuUDc3t3cDX9pRiIBD8hADhACd61mYEaaekQCn0mgBPwFkRDIB+eFqUeFoAjqPw1qNU93kK0eLVLPyAOPIS4AMSAf/laoZ0kGvaWCR1Aj/s47H8aaD5tq7HsdG2pitRrFAC9Lb8CSGEEMJ0YTI4kuuDkejAfisfAZCpsn7of7D0T7xZ7wmNBBeEC4RlASbk0Wz5d9kw8LjAFK6CFSm3PW1znjjpDVGw/DgyA/5MaZuDlwx0dCT2w8BPr2hlqONnJV9t9y/yOHr6qutaN4UFCKCSWU4vztTF1XXe9BFlVNv66QJtaswbpyBke+9c/5qtIC2Md8a4ktwvZhp7Hj2FnsENYMWNhRrAW7gB1W4cFV9Ei9iga8JarjyYM84u/88bQ+VZWUezR4dHl81IwVCotV+yPgTJFOl4lzRIUsNtz5hSyuhD9sKMvTw9MDANV3RLNNvWKqvw8I89wX3QIqAEGS/v7+Q190MR8A2G8DAFX5Red0GW4HcK8/s4KvkBVpdLjqQYDfJz34RpkBK2AHnGE+nsAHBIJQEAFGg3iQDNLBJFhlEVzPMjANzATzQBmoAMvBGlANNoItYAf4GewFzeAQOA5+A+fBJXAN3IarpxM8Az3gDehDEISE0BEGYoZYIw6IG+KJ+CHBSAQSiyQi6UgmkoNIEAUyE1mAVCArkWpkM1KP/IIcRI4jZ5EO5BZyH+lCXiIfUAyloUaoJeqIDkf9UDYagyajE9EcdCpagpaiS9EqtA7dhTahx9Hz6DVUiT5DezGA6WBMzAZzx/wwDhaPZWDZmAybjZVjlVgd1oi1wv/5CqbEurH3OBFn4CzcHa7gaDwF5+NT8dn4Erwa34E34SfxK/h9vAf/TKATLAhuhAAClzCOkEOYRigjVBK2EQ4QTsG3qZPwhkgkMolORF/4NqYTc4kziEuI64m7iceIHcSHxF4SiWRGciMFkeJJPFIhqYy0jrSLdJR0mdRJekfWIVuTPcmR5AyyhDyfXEneST5Cvkx+Qu6j6FMcKAGUeIqAMp2yjLKV0kq5SOmk9FENqE7UIGoyNZc6j1pFbaSeot6hvtLR0bHV8dcZqyPWmatTpbNH54zOfZ33NEOaK41Dm0BT0JbSttOO0W7RXtHpdEd6KD2DXkhfSq+nn6Dfo7/TZegO0+XqCnTn6NboNule1n2uR9Fz0GPrTdIr0avU26d3Ua9bn6LvqM/R5+nP1q/RP6h/Q7/XgGEwwiDeoMBgicFOg7MGTw1Jho6GEYYCw1LDLYYnDB8yMIYdg8PgMxYwtjJOMTqNiEZORlyjXKMKo5+N2o16jA2NRxqnGhcb1xgfNlYyMaYjk8vMZy5j7mVeZ34wsTRhmwhNFps0mlw2eWs6xDTUVGhabrrb9JrpBzOWWYRZntkKs2azu+a4uav5WPNp5hvMT5l3DzEaEjiEP6R8yN4hf1igFq4WiRYzLLZYXLDotbSyjLKUWq6zPGHZbcW0CrXKtVptdcSqy5phHWwttl5tfdT6T5Yxi83KZ1WxTrJ6bCxsom0UNptt2m36bJ1sU2zn2+62vWtHtfOzy7Zbbddm12NvbT/GfqZ9g/0fDhQHPweRw1qH0w5vHZ0c0xwXOjY7PnUydeI6lTg1ON1xpjuHOE91rnO+6kJ08XPJc1nvcskVdfV2FbnWuF50Q9183MRu6906hhKG+g+VDK0besOd5s52L3JvcL8/jDksdtj8Yc3Dng+3H54xfMXw08M/e3h75Hts9bg9wnDE6BHzR7SOeOnp6sn3rPG86kX3ivSa49Xi9WKk20jhyA0jb3ozvMd4L/Ru8/7k4+sj82n06fK19830rfW94Wfkl+C3xO+MP8E/zH+O/yH/9wE+AYUBewP+DnQPzAvcGfh0lNMo4aitox4G2QbxgjYHKYNZwZnBm4KVITYhvJC6kAehdqGC0G2hT9gu7Fz2LvbzMI8wWdiBsLecAM4szrFwLDwqvDy8PcIwIiWiOuJepG1kTmRDZE+Ud9SMqGPRhOiY6BXRN7iWXD63ntsz2nf0rNEnY2gxSTHVMQ9iXWNlsa1j0DGjx6wacyfOIU4S1xwP4rnxq+LvJjglTE34dSxxbMLYmrGPE0ckzkw8ncRImpy0M+lNcljysuTbKc4pipS2VL3UCan1qW/TwtNWpinHDR83a9z5dPN0cXpLBikjNWNbRu/4iPFrxndO8J5QNuH6RKeJxRPPTjKflD/p8GS9ybzJ+zIJmWmZOzM/8uJ5dbzeLG5WbVYPn8Nfy38mCBWsFnQJg4QrhU+yg7JXZj/NCcpZldMlChFVirrFHHG1+EVudO7G3Ld58Xnb8/rz0/J3F5ALMgsOSgwleZKTU6ymFE/pkLpJy6TKqQFT10ztkcXItskR+UR5S6ERPLBfUDgrflDcLwouqil6Ny112r5ig2JJ8YXprtMXT39SElny0wx8Bn9G20ybmfNm3p/FnrV5NjI7a3bbHLs5pXM650bN3TGPOi9v3u/zPeavnP96QdqC1lLL0rmlD3+I+qGhTLdMVnZjYeDCjYvwReJF7Yu9Fq9b/LlcUH6uwqOisuLjEv6Scz+O+LHqx/6l2Uvbl/ks27CcuFyy/PqKkBU7VhqsLFn5cNWYVU2rWavLV79eM3nN2cqRlRvXUtcq1iqrYqta1tmvW77uY7Wo+lpNWM3uWovaxbVv1wvWX94QuqFxo+XGio0fNok33dwctbmpzrGucgtxS9GWx1tTt57+ye+n+m3m2yq2fdou2a7ckbjjZL1vff1Oi53LGtAGRUPXrgm7Lv0c/nNLo3vj5t3M3RV7wB7Fnj9/yfzl+t6YvW37/PY17nfYX3uAcaC8CWma3tTTLGpWtqS3dBwcfbCtNbD1wK/Dft1+yOZQzWHjw8uOUI+UHuk/WnK095j0WPfxnOMP2ya33T4x7sTVk2NPtp+KOXXmt8jfTpxmnz56JujMobMBZw+e8zvXfN7nfNMF7wsHfvf+/UC7T3vTRd+LLZf8L7V2jOo4cjnk8vEr4Vd+u8q9ev5a3LWO6ynXb96YcEN5U3Dz6a38Wy/+KPqj7/bcO4Q75Xf171bes7hX9y+Xf+1W+igP3w+/f+FB0oPbD/kPnz2SP/rYWfqY/rjyifWT+qeeTw91RXZd+nP8n53PpM/6usv+Mvir9rnz8/1/h/59oWdcT+cL2Yv+l0temb3a/nrk67behN57bwre9L0tf2f2bsd7v/enP6R9eNI37SPpY9Unl0+tn2M+3+kv6O+X8mQ89VEAgw3Nzgbg5XYA6OkAMC7B88N4zT1PLYjmbqpG4D9hzV1QLT4ANMJOdVznHANgD2yOcyE3bKqjenIoQL28BptW5NlenhouGrzxEN7197+yBIDUCsAnWX9/3/r+/k9bYbC3ADg2VXO/VAkR3g02BanQNdPEueAb+Te28X+aZGyNiQAAAAlwSFlzAAAWJQAAFiUBSVIk8AAAAZ1pVFh0WE1MOmNvbS5hZG9iZS54bXAAAAAAADx4OnhtcG1ldGEgeG1sbnM6eD0iYWRvYmU6bnM6bWV0YS8iIHg6eG1wdGs9IlhNUCBDb3JlIDUuNC4wIj4KICAgPHJkZjpSREYgeG1sbnM6cmRmPSJodHRwOi8vd3d3LnczLm9yZy8xOTk5LzAyLzIyLXJkZi1zeW50YXgtbnMjIj4KICAgICAgPHJkZjpEZXNjcmlwdGlvbiByZGY6YWJvdXQ9IiIKICAgICAgICAgICAgeG1sbnM6ZXhpZj0iaHR0cDovL25zLmFkb2JlLmNvbS9leGlmLzEuMC8iPgogICAgICAgICA8ZXhpZjpQaXhlbFhEaW1lbnNpb24+NjIwPC9leGlmOlBpeGVsWERpbWVuc2lvbj4KICAgICAgICAgPGV4aWY6UGl4ZWxZRGltZW5zaW9uPjI3ODwvZXhpZjpQaXhlbFlEaW1lbnNpb24+CiAgICAgIDwvcmRmOkRlc2NyaXB0aW9uPgogICA8L3JkZjpSREY+CjwveDp4bXBtZXRhPgpvRIaAAAAAHGlET1QAAAACAAAAAAAAAIsAAAAoAAAAiwAAAIsAABsTO7X9sgAAGt9JREFUeAHsnXuoFGUfx3/mH8HpeFDqNTFMSbzhLSOCg9rNjigKmhe8nUIzTDMMzRv0jyiEphXdSIVQRNPwkkaheElDy38ktZTEk5JIpl04Xo6Wf9i+89u3nXdmdmZ3ZndnZ3bn88Cy8zzzzPP8ns8z+5zvea6tUoYTHAQgAAEIQAACEIBAbAm0QrDFtm4wDAIQgAAEIAABCKQJINh4ESAAAQhAAAIQgEDMCSDYYl5BmAcBCEAAAhCAAAQQbLwDEIAABCAAAQhAIOYEEGwxryDMgwAEIAABCEAAAgg23gEIQAACEIAABCAQcwIItphXEOZBAAIQgAAEIAABBBvvAAQgAAEIQAACEIg5AQRbzCsI8yAAAQhAAAIQgACCjXcAAhCAAAQgAAEIxJwAgi3mFYR5EIAABCAAAQhAAMHGOwABCEAAAhCAAARiTgDBFvMKwjwIQAACEIAABCCAYOMdgAAEIAABCEAAAjEngGCLeQVhHgQgAAEIQAACEECw8Q5AAAIQgAAEIACBmBNAsMW8gjAPAhCAAAQgAAEIINh4ByAAAQhAAAIQgEDMCSDYYl5BmAcBCEAAAhCAAAQQbLwDEIAABCAAAQhAIOYEEGwxryDMgwAEIAABCEAAAgg23gEIQAACEIAABCAQcwIItphXEOZBAAIQgAAEIAABBBvvAAQgAAEIQAACEIg5AQRbzCsI8yAAAQhAAAIQgACCjXcAAhCAAAQgAAEIxJwAgi3mFYR5EIAABCAAAQhAAMHGOwABCEAAAhCAAARiTgDBFvMKwjwIQAACEIAABCCAYOMdgAAEIAABCEAAAjEngGCLeQVhHgQgAAEIQAACEECw8Q5AAAIVReDWrVuyb98+OXr0qJw8eVLOnTsnly9flpaWlnQ5amtrpUOHDtK1a1fp37+/1NfXS0NDg9TU1FRUOTEWAhCAgJUAgs1Kg2sIQCC2BHbt2iUbN26U7du3SyqVCmRnq1atZOzYsdLY2CijRo0K9CyRIQABCMSBAIItDrWADRCAgCeBTz75RFatWiXHjx/3jBPkxoABA2T+/PkyefLkII8RFwIQgECkBBBskeIncwhAwIvAqVOnZMGCBbJnzx6vKEWFDxs2TFauXCl9+vQpKh0ehgAEIFAOAgi2clAmDwhAIBCBtWvXysyZMz2HPnv27ClDhw5Nz0/r3bu3dOrUSerq6tJ5XL9+XS5evCinT59Oz3Pbu3evnDlzxjV/HSpdvXq1zJgxw/U+gRCAAATiQgDBFpeawA4IQCBNYPHixbJixQpXGlOnTpXp06fLoEGDXO97BR45ckQ+/vhjWb9+vWuURYsWyfLly13vEQgBCEAgDgQQbHGoBWyAAATSBF555RX58MMPs2iMGTNGlixZIn379s26FyTghx9+SKezY8eOrMdmz54tH3zwQVY4ARCAAATiQADBFodawAYIQEC8etZ0yPKll14qKaE1a9akh1ydidLT5iSCHwIQiAsBBFtcagI7IJBgAjpnzSnKOnbsKJ9++mng4U+/GHWYdMKECXLp0iXbIyrmmNNmQ4IHAhCIAQEEWwwqARMgkGQCuhq0X79+tgUGKtZ0dWixQ6D5uOoQqa4WtYo2XYjw/fffs3o0HzzuQwACZSWAYCsrbjKDAAScBIYPH561dcfhw4dD61lz5q89bYMHD7YFq4jbvXu3LQwPBCAAgSgJINiipE/eEEg4Ad0Ud8qUKTYKYcxZs2Xg4nGb07Zp0yY213VhRRAEIBANAQRbNNzJFQIQMAg88sgjthMMdDWoHj0VhdOjq6yrR/VEhO+++y4KU8gTAhCAQBYBBFsWEgIgAIFyENCzQUePHm3LSueOhT1vzZahxaPz2XQundXt3LmTs0etQLiGAAQiI4Bgiww9GUMg2QTGjx8v27ZtMyHoprjr1q0z/VFcTJs2zba57rhx42Tr1q1RmEKeEIAABGwEEGw2HHggAIFyELh165bU1tbaVoaWc6GBVxmdCxB0xWhLS4vU1NR4PUI4BCAAgbIQQLCVBTOZQAACVgLO4VA9G/THH3+0RvF9ffv2bbly5Yo0NzeLCsEHHnhAHnzwQd/POyP26tXLdvYow6JOQvghAIEoCCDYoqBOnhBIOAHnqQZz5syRd999NxCVa9euiYopHUp1uscee0zeeOMNGTJkiPNWXv+rr74q7733nhmP0w9MFFxAAAIREkCwRQifrCGQVALOvdc2b94sEydO9I3jxIkToqs487kNGzbIc889ly+a7f6WLVtk0qRJZhh7spkouIAABCIkgGCLED5ZQyCpBLp37y5NTU1m8YOsDv32229l4MCB5rP5Ln7++Wfp3Llzvmjmfedq0W7dusnZs2fN+1xAAAIQiIIAgi0K6uQJgYQTqKurkxs3bpgUdP5Z27ZtTX+uCx0KdcbVYcv6+nr59ddfZdasWbbHP/roI9eD3m2RLJ6rV69Ku3btzJA2bdrI9evXTT8XEIAABKIggGCLgjp5QiDhBO666y7bCtE7d+6Ihvl1mSHRF154QRYuXCg9evQwH9UTChobG02/XqRSKZs/l+eff/6R1q1bm1F0paiG4SAAAQhESQDBFiV98oZAQgkUK9hyYXMbMkWw5SLGPQhAoBIIINgqoZawEQJVRqCYIVEnigsXLshPP/0kx44dS2/rsXTpUmeUQD1sDIlm4SMAAhCIAQEEWwwqARMgkDQCxSw6yLDav3+/vP/++/L5559ngjy/g/SwsejAEyM3IACBCAkg2CKET9YQSCqBYrf10D3WXn/9dd/4ggg2tvXwjZWIEIBAGQkg2MoIm6wgAIH/EShm41ztWWtoaHBFuXz58vSJBytWrLDdDyLY2DjXhg4PBCAQEwIItphUBGZAIEkEijma6qmnnpJDhw6ZuHSV6Msvv2zutaZz2rp06WLe14sggo2jqWzo8EAAAjEhgGCLSUVgBgSSRKCYw991mw2rO3PmjLmth54rumbNGtFeMqvzK9g4/N1KjWsIQCBOBBBscaoNbIFAggg8++yz6bNAM0XWM0HXrVuX8Xp+OwXb2LFj05vl6qa5eh6prhZ1Or+Cbdq0abJ+/Xrz8dGjR8tnn31m+rmAAAQgEBUBBFtU5MkXAgklcPPmTXnnnXdE55m1tLTYKPg5omr16tVZpxnYEnHx+BFsztWhmkxtba3oKQpz586Ve+65xyVlgiAAAQiUhwCCrTycyQUCiSeQEWpvv/12emGAG5AxY8bI9u3b3W6ZYXo0lfbOHTx40AzLd+FHsGlP3Y4dO1yT0qOq5s2bh3BzpUMgBCBQDgIItnJQJg8IJJiAH6FmxaM9aC+99JI1KOtaRdvmzZuzetq0N0yHNf/666/0kVX79u1LP5tPsOm8t5kzZ2bl4wxAuDmJ4IcABMpFAMFWLtLkA4GEEfAj1PQQ9//85z/S1NRko3P48GEZNGiQLczNo4sMLl++nL7VuXNntyh5w5wLDfSBbt26ye+//y566oGbQ7i5USEMAhAIkwCCLUy6pA2BBBLwI9QygkeHGc+fPy/9+vWzbb3RsWNH2bNnj/Tt2zdUgjpvbdiwYXLp0iUzH13UoHPpHnroIdHh21xDuJlyMMfNxMcFBCAQEgEEW0hgSRYCSSMQVKjV1NSYiNauXZs1DKqi7dNPP/XV02YmFOBCe9YmTJhgE2v6uA6Pzpgxw0xJtyBBuJk4uIAABKIiYMztwEEAAhAomICx0jO1bNmylNHblDLaMdeP3tM4hqjzzMeYf+b6rDGnzfOZQm9omm62qg1eTm33W05lgoMABCBQSgI6DIGDAAQgEJhAqYSaNePZs2e7Cilj9WjKGKa0Ri3oWtPQtNzEmubtxyHc/FAiDgQgUGoCCLZSEyU9CFQ5gTCEmhWZV0+biixjc92UsSDBGt3XtT6jz7oJNQ3L1bPmlQHCzYsM4RCAQBgEmMNmtNY4CEAgPwFDoKQ3vPUzCV8XE1jnqOVP3R5D57TpNhtGo2e/8a+vZ8+eMnToUKmvr5fevXtLp06dpK6uLn33+vXrcvHiRTl9+rQcPXpU9u7dK3p8lZvTBQa6jYh1zppbvFxhzHHLRYd7EIBAqQgg2EpFknQgUKUEyinUrAhPnTolCxYsSK8WtYaX6lpXh65cuVL69OlTkiQRbiXBSCIQgIAHAQSbBxiCIZB0AlEJNSf3Tz75RFatWiXHjx933irIP2DAAJk/f75Mnjy5oOfzPYRwy0eI+xCAQCEEEGyFUOMZCFQxgbgINSfiXbt2ycaNG9NHV3kNlTqfyfh16FOPnmpsbJRRo0ZlgkP9RriFipfEIZA4Agi2xFU5BYaAO4G4CjWntSqE9MgpnZ928uRJOXfuXPq0A2MxRDqqHtjeoUMH6dq1q/Tv3z89z62hoaGoOXVOG4L4EW5BaBEXAhDwIoBg8yJDOAQSQqBShFqlVwfCrdJrEPshEC0BBFu0/MkdApERQKhFgx7hFg13coVApRNAsFV6DWI/BAIS8CvU9HzM1157LbKhxIDFqrjoKtzeeuut9FYpzc3NrvZzVqkrFgIhkEgCCLZEVjuFTiIBhFo8ax3hFs96wSoIxI0Agi1uNYI9ECgxAYRaiYGGlBzCLSSwJAuBKiGAYKuSiqQYEHAS8DtXiqFPJ7lo/UGEW7EnSkRbUnKHAASCEECwBaFFXAhUAAGEWgVUkg8TEW4+IBEFAgkigGBLUGVT1OomgFCrzvpFuFVnvVIqCAQlgGALSoz4EIgZAYRazCokJHMQbiGBJVkIVAgBBFuFVBRmQsBJAKHmJJIMP8ItGfVMKSHgJIBgcxLBD4GYE0CoxbyCymQewq1MoMkGAjEhgGCLSUVgBgTyEUCo5SOUzPsIt2TWO6VOHgEEW/LqnBJXGAGEWoVVWETmItwiAk+2ECgTAQRbmUCTDQSCEkCoBSVGfCWAcOM9gEB1EkCwVWe9UqoKJoBQq+DKi5HpCLcYVQamQKAEBBBsJYBIEhAoBQGEWikokoaTAMLNSQQ/BCqTAIKtMusNq6uIAEKtiiozxkVBuMW4cjANAj4IINh8QCIKBMIggFALgypp5iOAcMtHiPsQiCcBBFs86wWrqpgAQq2KK7eCioZwq6DKwlQIGAQQbLwGECgTAYRamUCTTSACCLdAuIgMgcgIINgiQ0/G5SJw/fp1OXz4sIwYMaJcWdryQajZcOCJKYFKEW5ffvmlDB48WOrq6mJKErMgEA4BBFs4XEk1RgQmTZokv/32mxw4cKCsViHUyoqbzEpEIO7CbciQIdK+fXvZvHlziUpMMhCoDAIItsqoJ6wskMCqVatkwYIF6ae/+OKLsvSyIdQKrCweixWBOAo37V0bOXJkmtPKlStl/vz5sWKGMRAIkwCCLUy6pB0pgYMHD8rTTz9t2qDXYfayIdRM1FxUEYE4CTftXfvqq69Munr91FNPmX4uIFDNBBBs1Vy7CS6bzlt79NFHpampyUYhjF62IEJt3rx5cs8999hswgOBSiBw8+ZNefvtt+Wdd96R5uZmV5PbtWsn+o7rp6amxjVOoYHW3rVMGt26dZNjx44xny0DhO+qJoBgq+rqTW7hdN7ali1bsgCUspcNoZaFl4AEEIhKuDl71zKoJ06cyHy2DAy+q5tACgeBKiNgzG1JGb9az4/Ry1ZUiY0/WKlly5aljN4Ezzz03tKlS1MtLS1F5cXDEIgrAX239R3P9zvQ34r+Zopx+pvN9ZvW3zwOAtVOgB626tbjiSudc96aG4BCe9noUXOjSVjSCZSjx82rd83KnvlsVhpcVyMBBFs11mpCy+Q1b80NR5C5bAg1N4KEQcBOICzh5jZ3zZ7z/3zMZ3OjQlg1EUCwVVNtJrwsXvPW3LD46WVDqLmRIwwCuQmUWrj56V3LWMR8tgwJvquSQLWP+VK+ZBDIN2/N+PFmzYHxmsum822Yo5aM94ZShkegFHPc8s1dc/tdM58tvDol5WgJ0MNWlTI8WYXyM2/NjYizl40eNTdKhEGgOALF9LgF6V2zWsl8NisNrquFAIKtWmoyoeUIMm/NDZHOZdONN3V/Kf3k2l9q7ty56f2l2EfNjSRhEMhNIKhw03/EMqca5E45+y7z2bKZEFL5BBBslV+HiS5BkHlrbqAeeuihtEhDqLnRIQwCpSfgV7jpJrznz58v2ADmsxWMjgdjSgDBFtOKwaz8BKznhOaPHSyG/rGgRy0YM2JDIAgBP8ItSHpucY35bJw36gaGsIokgGCryGrD6ELnreUjh1DLR4j7ECgtgbCFG/PZSltfpBYdAQRbdOwrNmednL9v3z45evSonDx5Us6dOyeXL18WY1VYuky1tbXSoUMH6dq1q/Tv31/q6+uloaGhZGcLFjtvzQ282rxw4ULmqLnBIQwCZSCQEW5vvvmm2ZaUIttSz2eLuv0rBRPSqEwCCLbKrLdIrN61a5ds3LhRtm/fLsbi5kA2tGrVSsaOHSuNjY0yatSoQM86Ixc7b82ZnvqfeOIJOXTokNstwiAAgTISePLJJ+Xrr78uaY6lmM8Wl/avpGBIrLIIRLurCLlXAoFNmzalBgwYkLWPmfGmFxSmaWmahbhC9lvza6fXvmyF2MkzEIBAcAKF7Lvm9/dd6P5scWr/ghPliWoioD0lOAi4Evjhhx9Sw4YNK0iU+WlENW3Nw68z5qKEZovaa+zL5tcU4kEAAiEQ0N+gn7aj0Djahvh1cWv//NpNvOolwJCo8cvHZRNYu3atzJw503Pos2fPnjJ06ND0/LTevXtLp06dpK6uLp2QzjG7ePGinD59Oj3Pbe/evXLmzJnsTIwQHSpdvXq1zJgxw/V+JjCMeWuZtK3fui/biBEjrEFcQwACZSDg98zQYkzxO58tbu1fMWXm2SoiUL1alJIVSmDRokWe/+VOnTo1dfjw4cBJ6zP6rPHTcf1onrmcMQfF9Tmv9AoNp5ctVy1wDwLhEQi7dy3TJmhbksvFsf3LZS/3kkOAIdHk1LWvks6ePdtVGI0ZMyb1/fff+0ojVyRNQ9PKNJ7Wb83bzYU5b82af+aauWxutUAYBMIjEObctczv2vrtNZ8tju1feNRJudIIINgqrcZCtNfrP0tjyLLkuWqa1gY0c+3saQt73lomX+s3vWwlr24ShEBOAuXqXbP+zp3z2eLY/uWExs3EEUCwJa7K3Qu8Zs2aLAHVsWPHgoY/3XPIDtVhUs3D2ojqtdqi7tq1ayljzknWfWf8MPz0smXXFyEQCINAuXvXMu2Fti3axqiLY/sXBmvSrGwCCLbKrr+SWK+roYzJ/zZhpEKqFEOg+QzUPJyiTW1Rm8aNG2ezKdPQluObXrZ8Ncd9CJSGQBS9a5k2RNuYuLZ/paFLKtVEgFWixi836W748OGyZ88eGwaj90sGDRpkC8t4Tpw4IX/++WfGK/fee688/PDDpj/oxZEjR2Tw4MG2x+677z75448/bGHl9hj/+bNitNzQyS9RBMqxMjQfULe2Jlf7ly+9oPfd2j9jyyPZvXt30KSIX+0Eqkl9UpbgBHRTSOMdt33yzVlbvny5Lb76i3Vec9qctpXTTy9bsbXK8xDITSDK3jWvtiRf+5e7RIXddWv/Ct1cvDALeKoSCDAkWgm1FKKNzhMMdAVnPheGYNM8vVaPejWs5Qg3egDy4eA+BCBQAIGo5q7lajf8tH8FFNXXI872T9tmHASsBBgSNX69SXV6Nt7o0aNtxTfmlEnfvn1tYU7PihUrZPHixWawIeDEWGFl+gu9MOaSSL9+/Qp9PJTnjB4AOXDgQChpkygEkkxgyJAhYqzUjBUCP+1fWAa7tX87d+4s+uzlsOwl3fITQLCVn3lschw/frxs27bNtMfY2FbWrVtn+r0uwhJsmt+0adNk/fr1ZtYjR44UY2jA9Ed1kTnFIar8yRcC1URATy6J2k2ZMkV0nmrG+W3/MvHD+Ha2f8aiCNm6dWsYWZFmBRJAsFVgpZXC5Fu3bkltba0OiZvJ+Z1oG6Zgc07A1aOrWlpapKamxrSTCwhAAALFECim/Ssm33zP0v7lI5Ts+wi2hNa/czhUzwb98ccffdHwEmzGnkain19++UUeeOABuf/+++Xuu+/2laY1Uq9evWxnjzIsYKXDNQQgUCyBYto/r7wvXLggf//9d/rTrl072j8vUIQXTsA6oY3r5BBw7uo9Z84c34V3LjqYPn16asmSJbaVo8Ybmfbv378/ZTRivtPWiGpL5nn9dp5+ECgxIkMAAhBwECim/bMmpW2b8Q9l6rHHHrO1WZn2a8OGDamrV69aH8l7TfuXF1FiI7BKNKFVb+zzY2tgNm/e7JuEU7BlGiev7/nz5/tOWyOqLda01FYcBCAAgVIRKKb9y9hw5cqV1JNPPmlrq6ztVuZ64MCBKY3r19H++SWVvHgMiRq/qiS67t27S1NTk1n0IKujnEOiZiI5Lvbt2yfPPPNMjhj/v+VcLWUcISNnz579fwSuIAABCBRBoJj2T7O9ffu26CKFLVu2+LJCV9Hrano/jvbPD6VkxkGwJbPeRVc93rhxwyx9c3OztG3b1vTnuvASbNoo1dfXy9GjR0XjWN3jjz8ue/fu9TWnzRhCEJ0DknFt2rSROKwqy9jDNwQgUNkEimn/tOS6cr2xsdEGwehtkxdffDE9d82YCmJrA40eNmnfvr0tvpeH9s+LDOEItoS+A3fddZdtheidO3dEw/w4N8F2/Phx2/FUxs7dMmvWLFtyzji2mxbPP//8I61btzZDdKWohuEgAAEIlIJAMe2f9q7pHnLffPONacrzzz8va9eutf1DqosQ9Bg/XdDVo0cPM26+C9q/fISSex/BltC6L6bBcgo2t41zdbWos8fO72pPGqyEvpQUGwJlIlBM+6dCrEuXLjZL/f4zanvIw0P75wGGYEGwJfQlKGZIwI9gU6zaM2Z1bsLOej9zzZBAhgTfEIBAGASKaf90uLOhocFmlm7nUcgWRrZE/vXQ/rlRISxNIHnrLCixEjAm8ttWNxmLDnyDca4SVb+bmzdvni0Pr3jOZ9UW4+U0P2orDgIQgECpCBTT/hkLqMy2KdNOlcouTYf2r5Q0qysttvWorvr0XZpilrX7FWyZxizz7VewsazddzUSEQIQKIBAMe1f2IKN9q+ACk3IIwi2hFS0s5jFbBxZqGDTDSb9ODaO9EOJOBCAQKEEimn/3ASbMYxZqClZz9H+ZSEh4F8C/wUAAP//ESeALAAAHrtJREFU7Z1byBXV+8eXv4hK3uwmQgQhEiOwEgsyRaMsoyiwzAoi8pBYJkRU2kXQRUGny4LKLjqhSBeZXURRURcdrG7KTJDCKIRQCizRFyNs/+fZ/dduZu2ZPWvNrFnvnjWfBS9zWrMOn/WdZz/veuageqROEti1a1dPKTX4u+CCC6w5PP3004PzpAzZNtM333yTySP5ZJ9Nkrak2yZtJUEAAhDwRaCO/fv5558z9kls1YcffuiraT3snzeU0RWkousRHbIicPz48d60adMyhufTTz+1Otd02BYuXNg7fPjw4FxZX7VqVaZsMWonTpwY5ClakTaknTVpo7SVBAEIQMAXgTr2T9qwbNmyjJ269NJLMzZQbN3OnTv7eTZu3Ghl+6Rc7J9QIBURwGErItOB/aZTtWbNGqtemw6bdrAeeOCB3vr16zOGTB/btm2bVdnSBn2OLKWNJAhAAAK+CVS1f9IOmVFL2ym9LvbrkUce6S1YsCBzfPPmzVbNx/5ZYepsJhy2zg59r2eGBcTofPfdd6VEihw2bbTMpfw3ajO7JnWb5xIOLR0OMkAAAhUIVLV/UpXYsy1btgzZK9N+6W1x4soS9q+MEMdx2DquAfM/wZUrV5YScXHYrrnmmkyoYFThUrc2cLKUtpEgAAEINEWgiv3TbRGnTRyxtM3KWxd7afMPK/ZPk2VZRACHrYhMR/Zv3759yOC89NJLI3ufdtjEYMnDBKbhWr58eX8Gz8ZQSWVSp2nspG0kCEAAAk0RqGL/zLZIeHTdunVD9kvbRjN/3jb2L48K+0wC02RH8kNJ6jCB66+/Xr3//vsZAsnNr2rJkiWZfTYbv/zyi5o5c6Y67bTTbLL383z22Wdq6dKlmfzXXXedeu+99zL72IAABCDgm4Bv+3fGGWeoc845x7qZ2D9rVJ3PiMPWeQko9f3336uLL75YZlsHNGbNmtV34i666KLBviZW9u7dq8Q5+/XXXwfFJ0+GquR+DnXhhRcO9rECAQhAoAkC2L8mqFJmEwRw2Jqg2sIyX375ZXXPPfdkWi5O25tvvllppi1TUMGG/Gd5++23Z5w1ybp161a1YcOGgrPYDQEIQMAvAeyfX56U1hABM0bKdjcJvPLKK0P3YCSS6+8ru6etCrG8ezZ0fdIWEgQgAIFQBLB/oUhTTx0CPHRQh14k544yVtqJkieYbF75UYZEyjCfhtJ1pJc4bWUkOQ4BCPgggP3zQZEyQhDAYQtBeYzrsDFWaUdKXuxo+0WEdLflHPOlkOly89Zx2tIEWYcABHwTwP75Jkp5TRLgHrbEU+hqevXVV1XyOPpQ9xMjpv7++2917733Zh5ESGdMvnenrr32WrVo0SI1b948NXv2bDVjxox+lqNHj6qDBw+qffv2qd27d6sPPvhA7d+/P336YF0eMEjCo+rUU08tbMvatWsH+VmBAAQg4IMA9s8HRcoISqBJb5Cyx5dA0X+W6Vmt5AnOXvIEZ+G9bYlQax2TsqUOnWzapPOyhAAEIFCVgI2twf5Vpct5TREgJNoU2TEu18ZYpZsvL5c03whex1mTsopeiuvatnQ7WYcABCBQRsDVxmD/yohyPBQBHLZQpMekHldjlW62fHtPPpichDGdZ9bkHDnX5tugddqYbi/rEIAABNIE6tgW7F+aJOtTQYB72IIGoKe2slH3bLjcJzY5OamSz7H070/bs2ePOnDggDp06JA6duxYv4MTExP9rx3MmTNHzZ8/v3+fW/KpKjV9+nRrAL7aal0hGSEAgagJ+LIp2L+oZTLWncNhG+vh8dc4X8bKX4vKS2pjm8t7RQ4IQCA0gTbakja2OfS4dq0+HLYOjHibL/w2t70D0qKLEBh7Am22IW1u+9gLo4UNxGFr4aC5NDmGCz6GPriMGXkhAAE/BGKwHTH0wc9oUgoOW8QaiOlCj6kvEUuOrkFgbAjEZDNi6svYCKSFDcFha+Gg2TQ5xgs8xj7ZjCV5IAABNwIx2ooY++Q2quTGYYtQAzFf2DH3LUIp0iUIBCcQs42IuW/BhdLCCnHYWjhoo5rchQu6C30cNcYcgwAE8gl0wTZ0oY/5o8teHLaINNClC7lLfY1IonQFAo0R6JJN6FJfGxNMCwvGYWvhoOU1uYsXcBf7nDf27INA1wl00RZ0sc9d1zmfpgr8fYnffvvNe411PrfivTGBCwzZ9ybGLjAuqoNAdARC2oBxg9flvo/bWIRoDw5bCMqpOm666aaezx9+LtheLwQDGTMZOxIEIFCdwMaNG6ufnHNmiGs/p9qx2hWKge+xGyuILWkMDlvAgfrzzz/7H02/7LLLvDhtoS7UgIgqV9UkC3HWZMyS6fiejCEJAhBwJ/DDDz/0ryFfP/xNXvPuvZvaM5pmIWMm9k/GkDR1BHDYArJ/7bXX+qIX4dd12pq+QANi8VZVE0zSzpqMm4whCQIQcCfwzDPPDOxfXaetiWvdvUfjdUZTTLSzJvZPxpA0dQRw2AKyX7FixcBg1XHamrowA6JorCqfbExnTcZMxpAEAQi4E7j88ssz9q+q0+bzGnfvxXif4ZtN2lkT+ydjSJo6AjhsgdjrcKiIPv3nOtPm+4IM1P2g1fhglOes6XEjLBp0OKksAgI6HKqvIb10ddp8XNsR4BzZBV+MTGdNjxlh0ZH4Gz2Iw9Yo3v8KT4dDtfD10tZp83Uh/teqeNfqsBrlrMmYERaNVzf0rBkC6XCotnt6aeu01bmmm+nV+JZal1WRsyZjRlh06sYdhy0QezMcqo2VXpY5bXUvwEDdHKtqqjArc9ZkvAiLjtUw05gWEDDDodru6WWZ01blWm4BlkabWJXZKGdNxouwaKPDNrJwHLaRePwcLAqHamOll0VOW9ULz0/r212KCzsbZ02PFWHRduuC1ocjUBQO1deSXhY5bS7XcLhetaMmV3ZlzpoeK8KiUzP+OGwBuI8Kh+oLQC9Np831ggvQndZVYcPQxVmTsSIs2joZ0OApIjAqHKrtnl6aTpvNtTtF3WpNtbYMbZ01GSvColMz/DhsAbiXhUO1sdJL7bTZXmgButD6KkaxdHXWZJwIi7ZeEnQgEIGycKi2e3qpnbZR12ygpkdTTRlLF2dNxomw6NRIg2+JJuprMh09elSdddZZzlWcd9556qeffho6L7nw1Nq1a4f2s6OcQNG394pYl5WYhEXVjBkzyrJxHAKdJfDjjz+q888/37n/V111lfrkk0+GzsP+DSGx3lFk/4pYlxWchEXV3Llzy7Jx3CeBqfETu1OrSzg0GdfMKz/MbfkviVSPQNF/miZrm23CovXGgrPjJ+ASDi275rB/9fXi0/4RFq0/Hq4lMMOWWIkmU/L9SfXOO+/UriK50JhZq03x3wKK/tN0LT4Ji6pdu3a5nkZ+CHSGwKJFi9SXX35Zu7/Yv9oIBwX4sn9JWFTt3r17UC4rzRPAYWuQcdVwqNkkCdl99dVX6uyzzzYPsV2BwO+//64WLlyYG3J2LY6wqCsx8neFQNVwqMlHQnYff/yxuZvtGgSWLVuWG3J2LZKwqCuxmvldp+TIb0/AZzhUP4hgXzs58whUecAgucQKQ9WERfMosw8Cvf6ThKOuHZdj+kEEuNYn4PqAwahxIixafzxcSmCGLVFjU8lXOFS3L3Ha1LvvvstMmwbiuJSZtRtuuEF9/fXXjmcWZycsWsyGI90m4CscqikmjoZ64YUX9CbLCgTuu+8+9eKLL1Y4M/8UwqL5XJrai8PWEFlf4VCzeThtJhG77SacNV0zYVFNgiUE/iXgKxxq8sRpM4nYb/t21nTNhEU1iQBLl+k48toT8BkOTWSQCckRHrUfB8npOwxqjgdhUbfxIHf8BHw+HWpeb4RH3fXjMwxqjgdhUffxqHoGM2yJ+ppIvsOhZhuZaTOJ5G83ObOmayQsqkmwhMC/BBYvXtzoE4TMtNkrramZNd0CCX1/8cUXepNlgwRw2BqA21Q41GwqTptJJLsdwlnTNRIW1SRYdp1AU+FQkytOm0lkeLtpZ03XSFhUk2h4WXVqjvOKCTQZDk3kQHi0GP3gSNNhUHMcCIsO0LPScQJNhkPN647waLHYmgyDmuNAWLR4HHweYYYtUZ7v1HQ41GwvM21ZIiFn1nTNMuZvv/223mQJgc4SaDocaoJlps0kolSomTVdM2FRTaLZJQ6bZ76hwqFms3Ha/iUyFc6aHgvCopoEy64SCBUONfnitP1HJLSzpmsmLKpJNLj0OV1HWb1eyHBoIotMeDSZ5ek/EdnVcZAwqDAwuYTaJizaVeXRb00gZDjUvK4Jj/Z6IcOgJn/CovoqaG7JDFuiOp8pdDhUnlC8+eab+38zZszw2ZXWliWznBKelD8f33G1BUFY1JYU+WIlEDocKi9u1fZv7ty5sWJ16pfMcmr75+M7rraVExa1JVU9Hw5bdXZDZ4YKh+KkDaEv3BHaeSMsWjgUHIicQKhwKE6avZBCO2+ERe3HpkrOTjpsk5OT6sMPP+y/J2jPnj3qwIED6tChQ+rYsWN9hhMTE2rmzJlqzpw5av78+Ur+c1i+fLmaPn36SMavv/66WrNmzcg8VQ/ipFUl9995IZy3JCyqVq9e/V+lOWtN6S+nKnZBYIhAU/p79tln1SOPPDJUn48dOGn1KYZw3pKwqNqyZcvIxjalv5GVxnKwuWjr+JW8a9eu3qpVq3rTpk1zvs9JzpFzpYyilDhVzuUmOio8R8qT+6KSWZuiKtlfkYAwFbZNjFlRk5rWX1G97IeAEGhaf8k/toW2bJSdKzqWOGn9D8gnszYMoGcCwlTuORPGRfyr7BcNFKWm9VdUb0z7VUydKerL9u3bewsWLPAmTClLykwncQCqCNw8ByctTTXMum/nzXSwQ+gvDClqaSOBEPoTB8C0ZVW2cdLCK8y382Y62CH0F57a1NQYtcO2d+/e3nXXXefFkOQZHylb6pAkszV5eWz24aRNjfjzavXhvIkWJIXUX15f2NdtAiH1V+fpUJmVkfPNH/puj97U9F47b3VmS2UsJYXU39TQCl9rtA7b1q1bR4Y+L7jggt7999/f27FjR++7777rHTlypHfy5Mn+n6zLPjkmeSRvkeMloVKpy3UGT14/QbgzvOBdaqzqvIkWQuvPpV/kjZ9AaP0l9/sW2sg824mTNv4arOq8iRZC62/8afppYZQOW3Lja6HxSB4K6H366afO9OQcOTfP+Njuw0lzxj42J1R13kxtNKU/0TwJAkJgXO0fTlp79VnVecP++R3z6By2TZs25TpVK1eu7M+a1cUnM29SlinEom3CnXWJj9/5VZy3EPoT7ZO6TWDc7B9OWnx6rOK8Yf/86CAqh63oP8uXXnrJD61UKVJmkZMmITHCnSlYEa9q521USDyk/phpi1hsJV0bF/snITHuSSsZrEgOa+dtVEgc++dvsKNx2CRmbjpQs2bNqhT+tMUrYVKpw6xX2kLqFgH0163xHrfeor9xG5FutQf9hRnvKBw2eRrFfLeaOFISvmw6SR2m0yZtkTaRukEA/XVjnMe1l+hvXEemG+1Cf+HGOQqHLe/VHVUeLEhj//nnn3sfffRR5i99PL0udZmzbNImUjcINKE/F3Loz4VWfHl9609s3y+//NL/++OPP0qBob9SRFFn8K0/V1hd0l/rHTZ5KZ/pLPmImSefrhoqd5SQ8u5pk7aR4ibQlP5cqaE/V2Jx5PepP7F5CxcuHLJ7n3/+eSks9FeKKMoMPvVXB1BX9Nd6h8282VueRvGRXB02qdN8elTaRoqbQFP6q0IN/VWh1u5zfOkv+Q7ykKOm/xEWW2iT0J8Npbjy+NKfDypd0F+rHTb5Npk2Knrp6761Kg6b1K3boZfSRlKcBJrUXxVi6K8Ktfae40t/33zzzZDd0vZLlnLcJqE/G0rx5PGlP19EuqC/Vjts8jH2tGGRl5L6SlUcNqnbfLmutJEUJ4Em9VeVGPqrSq595/nS31NPPZWxo2JTt23b1hMbaOusaXroT5OIf+lLfz5Jxa6/aQIruUBblyYnJ9XExIQ4nIO2JzcfqiVLlgy266wkDxyo5cuXZ4pI15U5kNr47LPP1NKlSwd7kidG1bFjx9T06dMH+1hpP4Gm9VeVEPqrSq5d5/nUn9iodEpmTlTywu/0Lut19GeNqtUZferPJ4jo9ScOWxuTOR0r3/usmuRJKHkqSp4K3b9/f0+2q86wSRvMb49KW0lxEfCpPyFz+PDhvga/+OKL/vLEiROVgaG/yuhac6JP/SU/mJkZNnlKtE5Cf3XoteNcn/pL//5+++23fVtYh0LM+mttSNR8q7d8pN01iVCeeOKJjLHSxuuaa64Z2m9bvrRFlyNL3j5vS649+XzoT3or/xiYN8tq7bzxxhv9fx5cqaA/V2Lty19Xf+KUaZ2VLUWjLgn9udBqZ966+pNeyz+pRb+/t956a+aVWjKZYhuej1l/rXXYzHe/7Nixw0n5IpYkdGlttMSo2SZpS9oISltJcRGoqz+ZQXv44YczOklrRq8vXrzY+T9O9BeX1vJ6U1d/TTps6C9vxOLaV1d/ZQ+6aPuXXj799NNWEGPWn70XYoUqXKa5c+dmfuzkCRHbJD+Wrs6aCMc2mU+rSFtJcRGooz8h8eSTT2b0mzZM5vodd9zRcwmRor+4tJbXm7r6a9JhQ395IxbXvjr6E1uW3Gtubf+0PZQHYWxSzPqz90JsSAXMc+aZZ2YG/MiRI9a1y8BrEejlVVddNXgyypzu1XlsK5C26HNkKW0lxUWgjv7y/rtctmxZPzwq4ac8fbqEpdBfXFrL600d/enyRFMya5G2VXnrLtqTstGfJhzvso7+5EXMps70U8lyb9wVV1wxdFx0KlExmxSz/lrrsJnfDj158qTNWPbzSJgpLZi77rpr6F6hF198MZNH8tsmaUu6fGkrKS4CdfT30EMPZfQh/yyYM2jyI5nW0Nq1a60Boj9rVK3NWEd/ZqfTOpN1VwfNLA/9mUTi266jP/O39fHHH88AMv+hvfrqqzPHyzZi1l9rX+vxv//9TzyoxL78m5JBUrKvLCVPg6pzzz03ky3x+FXixGX2VX2thxTyzz//qFNOOWVQXiLu/r7BDlZaT6Cq/v766y91+umnZ/p/9913q/PPPz+zL/kvUSX/VWb2pfWeOWBsoD8DSISbVfWXh0LsUzolDptKHrpK73JaR39OuFqZuY7+ks9IqY0bNw76ncyqZV4jk/cbbWv7pNCo9VfmrY7r8apTsubMRTK+vbzH2PPy2bKIeUrWlkHs+arqz+XeIdFm+i9Pp3mc0V8elbj2VdVfHoW0xmS97gwb+sujHNe+Ovozf1vl+7U63CmRhueeey5j92wfNtCEY9affZxP0xiTZdWbHk2xiIHKS7b58s6N+abHvP52cV9V/dVx2LRRK+ON/soItf94Vf3l9dy3w4b+8ijHta+O/uR1WqbmRm3bvs5DE45Zf/neiu75GC+rPlZs64jZ5stDFPNjxXn97eK+qvqr4rAlX9zoyc24tgn92ZJqb76q+svrsfljKbavTkJ/dei149y6+sv7fTV1KNvyAKBrill/rXXYzCc55WV5NilPKOLxmykvn5mnaDvmF/cV9blr+6vqT2bJTMMkX9fwmdCfT5rjWVZV/eX1xtRjXYcN/eVRjmtfXf3t3LlzyA6aOpSHE8yHsWwoxqy/1jpsVT+NkTfDkTflapYvYrJNMX8aw5ZB7PlMfciY2yZ5hUfaOMnbvn0m9OeT5niWVUd/Zo/SWpT1ug4b+jMJx7ddR395IVFxAOVeNfkT/eVNothSjFl/9l6ILa1A+Y4fP94zHy1OPv5eWrt47KaBuu222zKefN57YuQcmyRtSJcvbZS2kuIiUFV/QiHvPWvJR4szgMRgvfbaa30tyUuebQ0Y+stgjHajjv5MKGl7Jet1HDb0Z9KNc7uO/vImTUwN3nPPPb3nn3++J99Wdplli11/dl7ImGpu1apVGedozZo1Vi013wOjxbJp06ZMeXq/XtoULm3Q+WUpbSTFSaCq/vL+wxStXHLJJb3Nmzf3TA3JsQcffNDKcJnnor84tSe9qqo/k0jaXsl6HYcN/Zl0492uqr8i+2fqUG8vWrRo8BRpGc3Y9ddqh82clpUBlidEylLefURaHKOWZeWaT6dIWdJGUpwEqupPaMiP4iitmce2bNlS6rChvzh1VtSrOvpLl2lqrarDhv7SVONfr6o/+f2Vz+2Zuhu1LZ+yKptp64L+Wu2wySWxYMGCzMCvXLnS6kox36ZsikXermzuKytY6k6fI20jxU2gqv6Eiq3TJvd1lBkrKQ/9CYVupTr606TSNkvWqzps6E8T7c6yiv7ML71ceeWVmd9NU496u+zhrC7or/UO2/bt24cGO3mTstUVI7F0Mzwqr1CQe4zkB9K812hUoVKnFpZeSttIcROooz8hI/9tigZFd1o3ein7RaM2Cf3ZUIovT139CRGtN72s4rChv/i0ZdMjV/2Z96/JZyLNf0YlZCrO2a233prR5ihddkV/rXfYRFTmO2HE8MjNhy5Jfjhtb+w2yzVvdJT6pU2kbhDwoT8hJYZLDJqrDtFfN3RW1Etf+isqv2w/+isjFPdxF/2JI6b/MZClfOUgz96Zjp3kLfrntUv6i8Jh27t379ATo7NmzbK6n63upSRxc6krLUJ5MlTaROoGAfTXjXEe116iv3EdmW60y0V/RfePr1+/vvfYY4/1Hn300d6NN96Y+T2V39bVq1fnwuza728UDpuM5NatW4cGWRwp8b6bSlK26ayJuKQtpG4RQH/dGu9x6y36G7cR6VZ7XPRn3oaUnuwoWs+bXevi7280DptcHubbl/XgS3zbd8qLmUt90gZSNwmgv26O+7j0Gv2Ny0h0sx22+pNbP2ydtnXr1uWGQrv6+xuVwyaXSdG71OQJEpk+rZukDPNpFO0YSt2kbhNAf90e/6nuPfqb6hHodv0u+pNZM3mwT5wy/Ruql/JkvLzJwXwgoeu/v9E5bHK5FHn6IgZ5sV6VMKmcY76UT4tLllInCQJCAP2hg6kkgP6mkj51o7/mNDBNik4cjujSyy+/rO69915xSHP7lnxvTF177bUqeYuymjdvnpo9e7aaMWNGP+/Ro0fVwYMH1b59+9Tu3bvVBx98oJKnW3LLSR4wUMn0rNqwYUPucXZ2kwD66+a4j0uv0d+4jEQ324H+Ghr35nzBqS9Znl7Je+Q4QTk0BVtln5QtdZAgkEcA/eVRYV8oAugvFGnqySOA/vKo1NsXZUjURCIv9zPfyFzFQdPnSFlSJgkCNgTQnw0l8jRFAP01RZZybQigPxtKdnmiDYkmztVQeuedd1Ryk6N66623CkOlQyf9/w4Jfd5yyy3qzjvvVCtWrCjKxn4IFBJAf4VoOBCAAPoLAJkqCgmgv0I01gc65bBpKpOTkyr5zEX//rQ9e/aoAwcOqEOHDqljx471s0xMTKiZM2eqOXPmqPnz5/fvc0s+HaSmT5+ui2AJgcoE0F9ldJzogQD68wCRIioTQH+V0alOOmzVcXEmBCAAAQhAAAIQCE8Ahy08c2qEAAQgAAEIQAACTgRw2JxwkRkCEIAABCAAAQiEJ4DDFp45NUIAAhCAAAQgAAEnAjhsTrjIDAEIQAACEIAABMITwGELz5waIQABCEAAAhCAgBMBHDYnXGSGAAQgAAEIQAAC4QngsIVnTo0QgAAEIAABCEDAiQAOmxMuMkMAAhCAAAQgAIHwBHDYwjOnRghAAAIQgAAEIOBEAIfNCReZIQABCEAAAhCAQHgCOGzhmVMjBCAAAQhAAAIQcCKAw+aEi8wQgAAEIAABCEAgPAEctvDMqRECEIAABCAAAQg4EcBhc8JFZghAAAIQgAAEIBCeAA5beObUCAEIQAACEIAABJwI4LA54SIzBCAAAQhAAAIQCE8Ahy08c2qEAAQgAAEIQAACTgRw2JxwkRkCEIAABCAAAQiEJ4DDFp45NUIAAhCAAAQgAAEnAjhsTrjIDAEIQAACEIAABMITwGELz5waIQABCEAAAhCAgBMBHDYnXGSGAAQgAAEIQAAC4QngsIVnTo0QgAAEIAABCEDAiQAOmxMuMkMAAhCAAAQgAIHwBHDYwjOnRghAAAIQgAAEIOBEAIfNCReZIQABCEAAAhCAQHgCOGzhmVMjBCAAAQhAAAIQcCKAw+aEi8wQgAAEIAABCEAgPAEctvDMqRECEIAABCAAAQg4EcBhc8JFZghAAAIQgAAEIBCeAA5beObUCAEIQAACEIAABJwI4LA54SIzBCAAAQhAAAIQCE8Ahy08c2qEAAQgAAEIQAACTgRw2JxwkRkCEIAABCAAAQiEJ4DDFp45NUIAAhCAAAQgAAEnAjhsTrjIDAEIQAACEIAABMITwGELz5waIQABCEAAAhCAgBMBHDYnXGSGAAQgAAEIQAAC4QngsIVnTo0QgAAEIAABCEDAiQAOmxMuMkMAAhCAAAQgAIHwBHDYwjOnRghAAAIQgAAEIOBE4P8A4yrmLCTVKMEAAAAASUVORK5CYII=)"
      ]
    },
    {
      "cell_type": "markdown",
      "metadata": {
        "id": "r_bF0SEmz1S3",
        "colab_type": "text"
      },
      "source": [
        "Tomo como raíz a `a`, el primer elemnto de la secuencia en orden prefijo. Con ella separo el input:\n",
        "\n",
        "```\n",
        "dbeafcg\n",
        "abdecfg\n",
        "```\n",
        "\n",
        "Luego, me quedan\n",
        "```\n",
        "dbe\n",
        "bde\n",
        "```\n",
        "\n",
        "y \n",
        "\n",
        "```\n",
        "fcg\n",
        "cfg\n",
        "```\n",
        "\n",
        "Siguiendo así, desarmamos el arbol"
      ]
    },
    {
      "cell_type": "code",
      "metadata": {
        "id": "WFZn0wu4EOHA",
        "colab_type": "code",
        "colab": {
          "base_uri": "https://localhost:8080/",
          "height": 35
        },
        "outputId": "2bc1b41d-c405-4366-e0fa-2e457eebc014"
      },
      "source": [
        "class Tree:\n",
        "    def __init__(self, root, left=None, right=None):\n",
        "        self.left = left\n",
        "        self.root = root\n",
        "        self.right = right\n",
        "\n",
        "    def __repr__(self):\n",
        "        return f\"Tree({repr(self.root)}, {repr(self.left)}, {repr(self.right)})\"\n",
        "    \n",
        "    def __eq__(self, other):\n",
        "        return type(other) == type(self) and self.left == other.left and self.root == other.root and self.right == other.right\n",
        "    \n",
        "    def __str__(self):\n",
        "        "
      ],
      "execution_count": 145,
      "outputs": [
        {
          "output_type": "stream",
          "text": [
            "Tree('a', None, Tree('b', None, None))\n"
          ],
          "name": "stdout"
        }
      ]
    },
    {
      "cell_type": "code",
      "metadata": {
        "id": "QUCxikxsRWbV",
        "colab_type": "code",
        "colab": {}
      },
      "source": [
        "class Tree:\n",
        "\n",
        "    def __init__(self, root, left=None, right=None):\n",
        "        self.left = left\n",
        "        self.root = root\n",
        "        self.right = right\n",
        "    \n",
        "    def __repr__(self):\n",
        "        return f\"Tree({repr(self.root)}, {repr(self.left)}, {repr(self.right)})\"\n",
        "    \n",
        "    def __eq__(self, other):\n",
        "        return type(other) == type(self) and self.left == other.left and self.root == other.root and self.right == other.right\n",
        "    \n",
        "    def __str__(self):\n",
        "        lines_left = str(self.left).split('\\n') if self.left else []\n",
        "        lines_right = str(self.right).split('\\n') if self.right else []\n",
        "\n",
        "        # Profundidad máxima de los sub arboles\n",
        "        depth = max(len(lines_left), len(lines_right))\n",
        "\n",
        "        \n",
        "        width_left = max(map(len, lines_left)) if lines_left else 0\n",
        "        left_pad = ' ' * width_left\n",
        "\n",
        "        out = left_pad + self.root\n",
        "        for d in range(depth):\n",
        "            line = ''\n",
        "\n",
        "            if d < len(lines_left):\n",
        "                line += lines_left[d]\n",
        "            \n",
        "            if d < len(lines_right):\n",
        "                line = line.ljust(width_left, ' ')\n",
        "                line += ' ' + lines_right[d]\n",
        "            \n",
        "            out += '\\n' + line\n",
        "\n",
        "        return out\n",
        "\n",
        "\n",
        "assert str(Tree('a')) == 'a'\n",
        "assert str(Tree('a', Tree('b'))) == ' a\\nb'\n",
        "assert str(Tree('a', Tree('b'), Tree('c'))) == ' a\\nb c'\n",
        "assert str(Tree('a', None, Tree('b'))) == 'a\\n b'"
      ],
      "execution_count": 151,
      "outputs": []
    },
    {
      "cell_type": "code",
      "metadata": {
        "id": "OCeLDt_8Esdh",
        "colab_type": "code",
        "colab": {
          "base_uri": "https://localhost:8080/",
          "height": 69
        },
        "outputId": "933a6500-564d-4481-f2a9-38bf0d57c57e"
      },
      "source": [
        "print(Tree('a', Tree('b'), Tree('c', Tree('d'), Tree('e'))))"
      ],
      "execution_count": 160,
      "outputs": [
        {
          "output_type": "stream",
          "text": [
            " a\n",
            "b  c\n",
            "  d e\n"
          ],
          "name": "stdout"
        }
      ]
    },
    {
      "cell_type": "code",
      "metadata": {
        "id": "uaGgdhLTR-0M",
        "colab_type": "code",
        "colab": {
          "base_uri": "https://localhost:8080/",
          "height": 35
        },
        "outputId": "0e0c6edf-b904-4356-e47f-b261829aa305"
      },
      "source": [
        "def reconstruct_tree(infix, prefix):\n",
        "    root = prefix[0]\n",
        "\n",
        "    n = len(infix)\n",
        "    n_left = infix.index(root)\n",
        "\n",
        "    left = None\n",
        "    if 0 < n_left:\n",
        "        infix_left = infix[:n_left]\n",
        "        prefix_left = prefix[1:n_left + 1]\n",
        "        left = reconstruct_tree(infix_left, prefix_left)\n",
        "\n",
        "    right = None\n",
        "    if 1 + n_left < n:\n",
        "        infix_right = infix[1 + n_left:]\n",
        "        prefix_right = prefix[n_left + 1:]\n",
        "        right = reconstruct_tree(infix_right, prefix_right)\n",
        "    \n",
        "    return Tree(root, left, right)\n",
        "\n",
        "assert reconstruct_tree('a', 'a') == Tree('a')\n",
        "assert reconstruct_tree('ab', 'ab') == Tree('a', None, Tree('b'))\n",
        "assert reconstruct_tree('bac', 'abc') == Tree('a', Tree('b'), Tree('c'))\n",
        "assert reconstruct_tree('ba', 'ab') == Tree('a', Tree('b'))\n",
        "assert reconstruct_tree('acb', 'abc') == Tree('a', None, Tree('b', Tree('c')))\n",
        "reconstruct_tree('ab', 'ab')"
      ],
      "execution_count": 149,
      "outputs": [
        {
          "output_type": "execute_result",
          "data": {
            "text/plain": [
              "Tree('a', None, Tree('b', None, None))"
            ]
          },
          "metadata": {
            "tags": []
          },
          "execution_count": 149
        }
      ]
    }
  ]
}